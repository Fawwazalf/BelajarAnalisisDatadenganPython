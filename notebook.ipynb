{
  "cells": [
    {
      "cell_type": "code",
      "execution_count": null,
      "metadata": {
        "colab": {
          "base_uri": "https://localhost:8080/",
          "height": 626
        },
        "id": "n2lFmfidNcPd",
        "outputId": "4391e90f-df66-4324-f7f8-c11ca8f270f1"
      },
      "outputs": [
        {
          "name": "stderr",
          "output_type": "stream",
          "text": [
            "C:\\Users\\ACER\\AppData\\Local\\Temp\\ipykernel_12852\\168305296.py:43: UserWarning: FigureCanvasAgg is non-interactive, and thus cannot be shown\n",
            "  plt.show()\n"
          ]
        },
        {
          "name": "stdout",
          "output_type": "stream",
          "text": [
            "        station    Recency   Frequency   Monetary\n",
            "0  Aotizhongxin  82.773611  110.060391  59.305833\n",
            "1     Changping  71.099743   94.657871  44.182086\n",
            "2      Dingling  65.989497   83.739723  27.585467\n",
            "3        Dongsi  86.194297  110.336742  53.699443\n",
            "4      Guanyuan  82.933372  109.023303  57.901643\n",
            "✅ Peta kualitas udara telah disimpan sebagai air_quality_map.html\n"
          ]
        }
      ],
      "source": [
        "import os\n",
        "import pandas as pd\n",
        "\n",
        "# 📌 2. Load Dataset\n",
        "folder_path = \"data\"  # Sesuaikan dengan folder data\n",
        "dashboard_folder = \"dashboard\"  # Folder tujuan untuk menyimpan cleaned data\n",
        "\n",
        "# Pastikan folder dashboard ada\n",
        "os.makedirs(dashboard_folder, exist_ok=True)\n",
        "\n",
        "all_files = [os.path.join(folder_path, f) for f in os.listdir(folder_path) if f.endswith('.csv')]\n",
        "\n",
        "# List untuk menyimpan DataFrame\n",
        "df_list = []\n",
        "\n",
        "for file in all_files:\n",
        "    df = pd.read_csv(file, sep=\",\", engine=\"python\", skipinitialspace=True)\n",
        "    if df.shape[1] == 1:\n",
        "        with open(file, \"r\", encoding=\"utf-8\") as f:\n",
        "            lines = f.readlines()\n",
        "        header = lines[0].strip().split(\",\")\n",
        "        data = [line.strip().split(\",\") for line in lines[1:]]\n",
        "        df = pd.DataFrame(data, columns=header)\n",
        "\n",
        "    numeric_cols = [\"year\", \"month\", \"day\", \"hour\", \"PM2.5\", \"PM10\", \"SO2\", \"NO2\", \"CO\", \"O3\", \"TEMP\", \"PRES\", \"DEWP\", \"RAIN\", \"WSPM\"]\n",
        "    for col in numeric_cols:\n",
        "        if col in df.columns:\n",
        "            df[col] = pd.to_numeric(df[col], errors=\"coerce\")\n",
        "\n",
        "    df_list.append(df)\n",
        "\n",
        "# Gabungkan semua file menjadi satu DataFrame\n",
        "final_df = pd.concat(df_list, ignore_index=True)\n",
        "\n",
        "# Simpan cleaned data ke dalam folder dashboard\n",
        "cleaned_file_path = os.path.join(dashboard_folder, \"main_data.csv\")\n",
        "final_df.to_csv(cleaned_file_path, index=False)\n",
        "\n",
        "print(f\"✅ Cleaned data telah disimpan di {cleaned_file_path}\")\n"
      ]
    }
  ],
  "metadata": {
    "colab": {
      "provenance": []
    },
    "kernelspec": {
      "display_name": "Python 3",
      "name": "python3"
    },
    "language_info": {
      "codemirror_mode": {
        "name": "ipython",
        "version": 3
      },
      "file_extension": ".py",
      "mimetype": "text/x-python",
      "name": "python",
      "nbconvert_exporter": "python",
      "pygments_lexer": "ipython3",
      "version": "3.11.2"
    }
  },
  "nbformat": 4,
  "nbformat_minor": 0
}
